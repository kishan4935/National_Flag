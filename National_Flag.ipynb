{
  "nbformat": 4,
  "nbformat_minor": 0,
  "metadata": {
    "colab": {
      "provenance": [],
      "mount_file_id": "179YcKAu1wiWK96fawSKSsbWMRnn7KHC0",
      "authorship_tag": "ABX9TyM3ww8Op3gipEf/Tzoc7VCY",
      "include_colab_link": true
    },
    "kernelspec": {
      "name": "python3",
      "display_name": "Python 3"
    },
    "language_info": {
      "name": "python"
    }
  },
  "cells": [
    {
      "cell_type": "markdown",
      "metadata": {
        "id": "view-in-github",
        "colab_type": "text"
      },
      "source": [
        "<a href=\"https://colab.research.google.com/github/kishan4935/National_Flag/blob/main/National_Flag.ipynb\" target=\"_parent\"><img src=\"https://colab.research.google.com/assets/colab-badge.svg\" alt=\"Open In Colab\"/></a>"
      ]
    },
    {
      "cell_type": "code",
      "source": [
        "import matplotlib.pyplot as plt\n",
        "import numpy as np\n",
        "from matplotlib.patches import Circle\n",
        "import math\n",
        "\n",
        "# Constants for flag proportions\n",
        "FLAG_WIDTH = 60\n",
        "FLAG_HEIGHT = 30\n",
        "GREEN_HEIGHT = FLAG_HEIGHT // 3\n",
        "ORANGE_HEIGHT = FLAG_HEIGHT // 3\n",
        "\n",
        "# Create the Indian National Flag image\n",
        "def create_indian_flag():\n",
        "    flag = []\n",
        "     # Create the orange rectangle\n",
        "    for _ in range(ORANGE_HEIGHT):\n",
        "        flag.extend([[255, 165, 0] for _ in range(FLAG_WIDTH)])  # RGB value for orange\n",
        "\n",
        "         # Create the white rectangle\n",
        "    for _ in range(GREEN_HEIGHT):\n",
        "        flag.extend([[255, 255, 255] for _ in range(FLAG_WIDTH)])  # RGB value for white\n",
        "\n",
        "    # Create the green rectangle\n",
        "    for _ in range(GREEN_HEIGHT):\n",
        "        flag.extend([[0, 128, 0] for _ in range(FLAG_WIDTH)])  # RGB value for green\n",
        "\n",
        "\n",
        "\n",
        "\n",
        "\n",
        "    return flag\n",
        "\n",
        "# Generate the flag image\n",
        "indian_flag = create_indian_flag()\n",
        "\n",
        "# Display the flag using matplotlib\n",
        "indian_flag = np.array(indian_flag, dtype=np.uint8)\n",
        "indian_flag = indian_flag.reshape(FLAG_HEIGHT, FLAG_WIDTH, 3)\n",
        "\n",
        "# Create a figure and axis\n",
        "fig, ax = plt.subplots()\n",
        "ax.imshow(indian_flag)\n",
        "ax.axis('off')  # Turn off axis labels and ticks\n",
        "\n",
        "# Add black circle to cover the boundary of the Ashoka Chakra\n",
        "chakra_center = (FLAG_WIDTH // 2, GREEN_HEIGHT + ORANGE_HEIGHT // 2)\n",
        "chakra_radius = 0.085 * FLAG_WIDTH\n",
        "black_circle = Circle(chakra_center, chakra_radius, color=\"black\", linewidth=0)\n",
        "ax.add_patch(black_circle)\n",
        "\n",
        "# Add Ashoka Chakra\n",
        "chakra_color = \"white\"\n",
        "chakra = Circle(chakra_center, chakra_radius * 0.9, color=chakra_color, linewidth=2)\n",
        "ax.add_patch(chakra)\n",
        "\n",
        "# Add 24 spokes (lines) inside the Chakra\n",
        "spoke_color = \"black\"\n",
        "for angle in range(0, 360, 15):\n",
        "    angle_rad = math.radians(angle)\n",
        "    x1 = chakra_center[0] + (chakra_radius * 0.9 * math.cos(angle_rad))\n",
        "    y1 = chakra_center[1] + (chakra_radius * 0.9 * math.sin(angle_rad))\n",
        "    x2 = chakra_center[0] + ((chakra_radius * 0.4) * math.cos(angle_rad + math.pi))\n",
        "    y2 = chakra_center[1] + ((chakra_radius * 0.4) * math.sin(angle_rad + math.pi))\n",
        "    spoke = plt.Line2D([x1, x2], [y1, y2], color=spoke_color, linewidth=2)\n",
        "    ax.add_artist(spoke)\n",
        "\n",
        "# Display the figure\n",
        "plt.show()\n"
      ],
      "metadata": {
        "colab": {
          "base_uri": "https://localhost:8080/",
          "height": 285
        },
        "id": "-x13yta_SeZn",
        "outputId": "11138f89-ca5f-4b2d-d6bb-22e72aeca850"
      },
      "execution_count": 38,
      "outputs": [
        {
          "output_type": "display_data",
          "data": {
            "text/plain": [
              "<Figure size 640x480 with 1 Axes>"
            ],
            "image/png": "[encoded data removed]"
          },
          "metadata": {}
        }
      ]
    }
  ]
}